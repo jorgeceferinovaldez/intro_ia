{
 "cells": [
  {
   "cell_type": "code",
   "execution_count": 1,
   "metadata": {},
   "outputs": [],
   "source": [
    "import numpy as np\n"
   ]
  },
  {
   "cell_type": "markdown",
   "metadata": {},
   "source": [
    "#### Ejecicio #1:    Operaciones Matriciales\n",
    "Dada una matriz en formato numpy array, donde cada fila de la matriz representa un vector matemático: \n",
    "* Computar las normas l0, l1, l2, l-infinito\n",
    "    * l0: número de elementos diferentes a cero en el vector\n",
    "    * l1-l2: \n",
    "    ![](https://latex.codecogs.com/svg.latex?%7B%5Ccolor%7BOrange%7D%20%5Cleft%20%5C%7C%20x%20%5Cright%20%5C%7C_%7Bp%7D%20%3D%20%5Cleft%20%28%20%5Csum_%7B1%7D%5E%7Bn%7D%20%5Cleft%20%7C%20x_%7Bi%7D%20%5Cright%20%7C%5Ep%20%5Cright%20%29%5E%7B%5Ctfrac%7B1%7D%7Bp%7D%7D%7D)\n",
    "    * l-infinito:\n",
    "     ![](https://latex.codecogs.com/svg.latex?%7B%5Ccolor%7BOrange%7D%20%5Cleft%20%5C%7C%20x%20%5Cright%20%5C%7C_%7B%5Cinfty%7D%20%3D%20max_%7Bi%7D%20%5Cleft%20%7C%20x_%7Bi%7D%20%5Cright%20%7C%7D)"
   ]
  },
  {
   "cell_type": "code",
   "execution_count": 2,
   "metadata": {},
   "outputs": [],
   "source": [
    "matriz = np.array([[1,0,3,4],[5,6,0,8,],[0,10,11,12],[13,14,0,16]])"
   ]
  },
  {
   "cell_type": "code",
   "execution_count": 3,
   "metadata": {},
   "outputs": [
    {
     "name": "stdout",
     "output_type": "stream",
     "text": [
      "[[ 1  0  3  4]\n",
      " [ 5  6  0  8]\n",
      " [ 0 10 11 12]\n",
      " [13 14  0 16]]\n"
     ]
    }
   ],
   "source": [
    "print(matriz)"
   ]
  },
  {
   "cell_type": "code",
   "execution_count": 4,
   "metadata": {},
   "outputs": [],
   "source": [
    "# Norma L0\n",
    "# Una forma de hacerlo\n",
    "norma_0 = np.count_nonzero(matriz)\n",
    "\n",
    "# Otra forma de hacerlo\n",
    "norma_0_ = np.sum(matriz != 0)"
   ]
  },
  {
   "cell_type": "code",
   "execution_count": 5,
   "metadata": {},
   "outputs": [
    {
     "name": "stdout",
     "output_type": "stream",
     "text": [
      "Norma L0:  12\n",
      "Norma L0:  12\n"
     ]
    }
   ],
   "source": [
    "print(\"Norma L0: \", norma_0)\n",
    "print(\"Norma L0: \", norma_0_)"
   ]
  },
  {
   "cell_type": "code",
   "execution_count": 6,
   "metadata": {},
   "outputs": [
    {
     "name": "stdout",
     "output_type": "stream",
     "text": [
      "Norma L1:  40.0\n"
     ]
    }
   ],
   "source": [
    "# L1-L2\n",
    "\n",
    "# L1\n",
    "norma_1 = np.linalg.norm(matriz,1)\n",
    "print(\"Norma L1: \", norma_1)"
   ]
  },
  {
   "cell_type": "code",
   "execution_count": 7,
   "metadata": {},
   "outputs": [
    {
     "name": "stdout",
     "output_type": "stream",
     "text": [
      "Norma L2:  31.333360671706163\n"
     ]
    }
   ],
   "source": [
    "# L2\n",
    "norma_2 = np.linalg.norm(matriz,2)\n",
    "print(\"Norma L2: \", norma_2)"
   ]
  },
  {
   "cell_type": "code",
   "execution_count": 8,
   "metadata": {},
   "outputs": [
    {
     "name": "stdout",
     "output_type": "stream",
     "text": [
      "Norma 1 - Noma 2 de la matriz:  8.666639328293837\n"
     ]
    }
   ],
   "source": [
    "print(\"Norma 1 - Noma 2 de la matriz: \", norma_1 - norma_2)"
   ]
  },
  {
   "cell_type": "code",
   "execution_count": 9,
   "metadata": {},
   "outputs": [
    {
     "name": "stdout",
     "output_type": "stream",
     "text": [
      "Norma infinito:  43.0\n"
     ]
    }
   ],
   "source": [
    "# l-infinito\n",
    "norma_infinito = np.linalg.norm(matriz,np.inf)\n",
    "print(\"Norma infinito: \", norma_infinito)"
   ]
  },
  {
   "cell_type": "markdown",
   "metadata": {},
   "source": [
    "#### Ejecicio #2:    Sorting :house:\n",
    "Dada una matriz en formato numpy array, donde cada fila de la matriz representa un vector matemático, se requiere computar la norma l2 de cada vector.\n",
    "Una vez obtenida la norma, se debe ordenar las mísmas de mayor a menor. Finalmente, obtener la matriz original ordenada por fila según la norma l2."
   ]
  },
  {
   "cell_type": "code",
   "execution_count": 10,
   "metadata": {},
   "outputs": [],
   "source": [
    "A = np.array([[1, -2, 3], [-4, 5, -6], [7, -8, 9]])"
   ]
  },
  {
   "cell_type": "code",
   "execution_count": 11,
   "metadata": {},
   "outputs": [
    {
     "data": {
      "text/plain": [
       "array([[ 1, -2,  3],\n",
       "       [-4,  5, -6],\n",
       "       [ 7, -8,  9]])"
      ]
     },
     "execution_count": 11,
     "metadata": {},
     "output_type": "execute_result"
    }
   ],
   "source": [
    "A"
   ]
  },
  {
   "cell_type": "code",
   "execution_count": 12,
   "metadata": {},
   "outputs": [],
   "source": [
    "vec_l2 = np.array([])"
   ]
  },
  {
   "cell_type": "code",
   "execution_count": 13,
   "metadata": {},
   "outputs": [],
   "source": [
    "for rows in A:\n",
    "    # print(rows)\n",
    "    vec_l2 = np.append(vec_l2, np.linalg.norm(rows))"
   ]
  },
  {
   "cell_type": "code",
   "execution_count": 14,
   "metadata": {},
   "outputs": [
    {
     "data": {
      "text/plain": [
       "array([ 3.74165739,  8.77496439, 13.92838828])"
      ]
     },
     "execution_count": 14,
     "metadata": {},
     "output_type": "execute_result"
    }
   ],
   "source": [
    "vec_l2"
   ]
  },
  {
   "cell_type": "code",
   "execution_count": 15,
   "metadata": {},
   "outputs": [],
   "source": [
    "mat_norm2 = np.zeros((2,3))"
   ]
  },
  {
   "cell_type": "code",
   "execution_count": 16,
   "metadata": {},
   "outputs": [
    {
     "data": {
      "text/plain": [
       "(2, 3)"
      ]
     },
     "execution_count": 16,
     "metadata": {},
     "output_type": "execute_result"
    }
   ],
   "source": [
    "mat_norm2.shape"
   ]
  },
  {
   "cell_type": "code",
   "execution_count": 17,
   "metadata": {},
   "outputs": [],
   "source": [
    "mat_norm2[0] = vec_l2[0:3]"
   ]
  },
  {
   "cell_type": "code",
   "execution_count": 18,
   "metadata": {},
   "outputs": [
    {
     "data": {
      "text/plain": [
       "array([[ 3.74165739,  8.77496439, 13.92838828],\n",
       "       [ 0.        ,  0.        ,  0.        ]])"
      ]
     },
     "execution_count": 18,
     "metadata": {},
     "output_type": "execute_result"
    }
   ],
   "source": [
    "mat_norm2"
   ]
  },
  {
   "cell_type": "code",
   "execution_count": 19,
   "metadata": {},
   "outputs": [],
   "source": [
    "for i in range(3):\n",
    "    mat_norm2[1, i] = i"
   ]
  },
  {
   "cell_type": "code",
   "execution_count": 20,
   "metadata": {},
   "outputs": [
    {
     "data": {
      "text/plain": [
       "array([[ 3.74165739,  8.77496439, 13.92838828],\n",
       "       [ 0.        ,  1.        ,  2.        ]])"
      ]
     },
     "execution_count": 20,
     "metadata": {},
     "output_type": "execute_result"
    }
   ],
   "source": [
    "mat_norm2"
   ]
  },
  {
   "cell_type": "code",
   "execution_count": 21,
   "metadata": {},
   "outputs": [],
   "source": [
    "# Obtener los índices que ordenarían la fila 1 en orden descendente\n",
    "sorted_indices = np.argsort(mat_norm2[1])[::-1]"
   ]
  },
  {
   "cell_type": "code",
   "execution_count": 22,
   "metadata": {},
   "outputs": [],
   "source": [
    "# Reordenar todas las filas de la matriz de acuerdo con estos índices\n",
    "sorted_mat_norm2 = mat_norm2[:, sorted_indices]"
   ]
  },
  {
   "cell_type": "code",
   "execution_count": 23,
   "metadata": {},
   "outputs": [
    {
     "name": "stdout",
     "output_type": "stream",
     "text": [
      "[[13.92838828  8.77496439  3.74165739]\n",
      " [ 2.          1.          0.        ]]\n"
     ]
    }
   ],
   "source": [
    "print(sorted_mat_norm2)"
   ]
  },
  {
   "cell_type": "code",
   "execution_count": 24,
   "metadata": {},
   "outputs": [
    {
     "data": {
      "text/plain": [
       "(3, 3)"
      ]
     },
     "execution_count": 24,
     "metadata": {},
     "output_type": "execute_result"
    }
   ],
   "source": [
    "A.shape"
   ]
  },
  {
   "cell_type": "code",
   "execution_count": 25,
   "metadata": {},
   "outputs": [],
   "source": [
    "reordenada = A[sorted_indices]"
   ]
  },
  {
   "cell_type": "code",
   "execution_count": 26,
   "metadata": {},
   "outputs": [
    {
     "data": {
      "text/plain": [
       "array([[ 7, -8,  9],\n",
       "       [-4,  5, -6],\n",
       "       [ 1, -2,  3]])"
      ]
     },
     "execution_count": 26,
     "metadata": {},
     "output_type": "execute_result"
    }
   ],
   "source": [
    "reordenada"
   ]
  },
  {
   "cell_type": "markdown",
   "metadata": {},
   "source": [
    "#### Ejecicio #3:    Indexing :house:\n",
    "El objetivo es construir un índice para identificadores de usuarios, es decir _id2idx_ e _idx2id_.\n",
    "Para ello crear una clase, donde el índice se genere en el constructor. Armar métodos _get_users_id_ y _get_users_idx_.\n",
    "\n",
    "* Identificadores de usuarios : users_id = [15, 12, 14, 10, 1, 2, 1]\n",
    "* Índice de usuarios : users_id = [0, 1, 2, 3, 4, 5, 4]\n",
    "```\n",
    "id2idx =  [-1     4     5    -1    -1    -1     -1    -1    -1    -1     3     -1      1    -1     2     0]\n",
    "          [ 0     1     2     3     4     5      6     7     8     9    10     11     12    13    14    15]\n",
    "\n",
    "id2idx[15] -> 0 ; id2idx[12] -> 1 ; id2idx[3] -> -1\n",
    "idx2id[0] -> 15 ; idx2id[4] -> 1\n",
    "```"
   ]
  },
  {
   "cell_type": "code",
   "execution_count": 27,
   "metadata": {},
   "outputs": [],
   "source": [
    "import numpy as np"
   ]
  },
  {
   "cell_type": "code",
   "execution_count": 28,
   "metadata": {},
   "outputs": [],
   "source": [
    "class UserIndex:\n",
    "    def __init__(self, usuarios_id):\n",
    "        #self.user_index = {}\n",
    "        #maximo de un array de numpy\n",
    "        user_id_min = np.min(usuarios_id) # minimos\n",
    "        user_id_max = np.max(usuarios_id) # maximos\n",
    "        #array_id_idx = np.array([np.full(user_id_max+1, -1), np.arange(user_id_min-1, user_id_max+1)]) # array de minimos-1 a maximos+1\n",
    "        self.array_id_idx = np.array(np.full(user_id_max+1, -1))\n",
    "        print(self.array_id_idx)\n",
    "\n",
    "        #recorro los usuarios_id\n",
    "        for i in range(len(usuarios_id)):\n",
    "            if self.array_id_idx[usuarios_id[i]] == -1:\n",
    "                self.array_id_idx[usuarios_id[i]] = i\n",
    "\n",
    "        print(self.array_id_idx)\n",
    "        \n",
    "\n",
    "\n",
    "    def get_users_id(self, idx):\n",
    "        indice = np.where(self.array_id_idx == idx)\n",
    "        return indice\n",
    "\n",
    "    def get_users_idx(self, id):\n",
    "        id = self.array_id_idx[id]\n",
    "        return id"
   ]
  },
  {
   "cell_type": "code",
   "execution_count": 29,
   "metadata": {},
   "outputs": [
    {
     "name": "stdout",
     "output_type": "stream",
     "text": [
      "[-1 -1 -1 -1 -1 -1 -1 -1 -1 -1 -1 -1 -1 -1 -1 -1]\n",
      "[-1  4  5 -1 -1 -1 -1 -1 -1 -1  3 -1  1 -1  2  0]\n"
     ]
    }
   ],
   "source": [
    "usuarios_id = [15, 12, 14, 10, 1, 2, 1]\n",
    "usuarios_indices = UserIndex(usuarios_id)"
   ]
  },
  {
   "cell_type": "code",
   "execution_count": 30,
   "metadata": {},
   "outputs": [
    {
     "name": "stdout",
     "output_type": "stream",
     "text": [
      "(array([15]),)\n"
     ]
    }
   ],
   "source": [
    "print(usuarios_indices.get_users_id(0))  # Imprime: 12345"
   ]
  },
  {
   "cell_type": "code",
   "execution_count": 31,
   "metadata": {},
   "outputs": [
    {
     "name": "stdout",
     "output_type": "stream",
     "text": [
      "2\n"
     ]
    }
   ],
   "source": [
    "print(usuarios_indices.get_users_idx(14))"
   ]
  },
  {
   "cell_type": "markdown",
   "metadata": {},
   "source": [
    "#### Ejecicio #4:    Precision, Recall, Accuracy :house:\n",
    "En los problemas de clasificación, se cuenta con dos arreglos, la **verdad** (ground truth) y la **predicción** (prediction). \n",
    "Cada elemento de los arreglos puede tomar dos valores: _True_ (representado por 1) y _False_ (representado por 0). \n",
    "Por lo tanto, se pueden definir cuatro variables:\n",
    "* True Positive (TP): la verdad es 1 y la predicción es 1.\n",
    "* True Negative (TN): la verdad es 0 y la predicción es 0.\n",
    "* False Negative (FN): la verdad es 1 y la predicción es 0.\n",
    "* False Positive (FP): la verdad es 0 y la predicción es 1.\n",
    "\n",
    "A partir de esas cuatro variables, se definen las siguientes métricas:\n",
    "* Precision = TP / (TP + FP)\n",
    "* Recall = TP / (TP + FN)\n",
    "* Accuracy = (TP + TN) / (TP + TN + FP + FN)\n",
    "\n",
    "Para los siguientes arreglos, representando la **verdad** y la **predicción**,\n",
    "calcular las métricas anteriores con operaciones vectorizadas en NumPy.\n",
    "* truth = [1,1,0,1,1,1,0,0,0,1]\n",
    "* prediction = [1,1,1,1,0,0,1,1,0,0]\n"
   ]
  },
  {
   "cell_type": "code",
   "execution_count": 32,
   "metadata": {},
   "outputs": [],
   "source": [
    "# \n",
    "truth = np.array([1, 1, 0, 1, 1, 1, 0, 0, 0, 1])\n",
    "prediction = np.array([1, 1, 1, 1, 0, 0, 1, 1, 0, 0])\n"
   ]
  },
  {
   "cell_type": "code",
   "execution_count": 33,
   "metadata": {},
   "outputs": [],
   "source": [
    "TP = np.sum(np.logical_and(truth == 1, prediction == 1))\n",
    "TN = np.sum(np.logical_and(truth == 0, prediction == 0))\n",
    "FN = np.sum(np.logical_and(truth == 1, prediction == 0))\n",
    "FP = np.sum(np.logical_and(truth == 0, prediction == 1))\n"
   ]
  },
  {
   "cell_type": "code",
   "execution_count": 39,
   "metadata": {},
   "outputs": [
    {
     "name": "stdout",
     "output_type": "stream",
     "text": [
      "TP:  3\n",
      "TN:  1\n",
      "FN:  3\n",
      "FP:  3\n"
     ]
    }
   ],
   "source": [
    "print(\"TP: \", TP)\n",
    "print(\"TN: \", TN)\n",
    "print(\"FN: \", FN)\n",
    "print(\"FP: \", FP)\n"
   ]
  },
  {
   "cell_type": "code",
   "execution_count": 35,
   "metadata": {},
   "outputs": [
    {
     "name": "stdout",
     "output_type": "stream",
     "text": [
      "Precision:  0.5\n"
     ]
    }
   ],
   "source": [
    "precision = TP / (TP + FP)\n",
    "print(\"Precision: \", precision)"
   ]
  },
  {
   "cell_type": "code",
   "execution_count": 36,
   "metadata": {},
   "outputs": [
    {
     "name": "stdout",
     "output_type": "stream",
     "text": [
      "Recall:  0.5\n"
     ]
    }
   ],
   "source": [
    "recall = TP / (TP + FN)\n",
    "print(\"Recall: \", recall)"
   ]
  },
  {
   "cell_type": "code",
   "execution_count": 37,
   "metadata": {},
   "outputs": [
    {
     "name": "stdout",
     "output_type": "stream",
     "text": [
      "Acurracy:  0.4\n"
     ]
    }
   ],
   "source": [
    "acurracy = (TP + TN) / (TP + TN + FP + FN)\n",
    "print(\"Acurracy: \", acurracy)"
   ]
  },
  {
   "cell_type": "code",
   "execution_count": null,
   "metadata": {},
   "outputs": [],
   "source": []
  }
 ],
 "metadata": {
  "kernelspec": {
   "display_name": ".venv",
   "language": "python",
   "name": "python3"
  },
  "language_info": {
   "codemirror_mode": {
    "name": "ipython",
    "version": 3
   },
   "file_extension": ".py",
   "mimetype": "text/x-python",
   "name": "python",
   "nbconvert_exporter": "python",
   "pygments_lexer": "ipython3",
   "version": "3.8.18"
  },
  "orig_nbformat": 4
 },
 "nbformat": 4,
 "nbformat_minor": 2
}
