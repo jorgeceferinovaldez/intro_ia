{
 "cells": [
  {
   "cell_type": "code",
   "execution_count": 1,
   "metadata": {},
   "outputs": [],
   "source": [
    "import numpy as np\n"
   ]
  },
  {
   "cell_type": "markdown",
   "metadata": {},
   "source": [
    "Funcion zip\n",
    "\n",
    "La función zip en Python se utiliza para combinar dos o más iterables en un solo iterable de tuplas. Cada elemento de la tupla resultante contiene elementos correspondientes de los iterables originales. Aquí tienes un ejemplo de cómo usar la función zip:"
   ]
  },
  {
   "cell_type": "code",
   "execution_count": 2,
   "metadata": {},
   "outputs": [
    {
     "name": "stdout",
     "output_type": "stream",
     "text": [
      "(1, 'a')\n",
      "(2, 'b')\n",
      "(3, 'c')\n"
     ]
    }
   ],
   "source": [
    "lista1 = [1, 2, 3]\n",
    "lista2 = ['a', 'b', 'c']\n",
    "\n",
    "resultado = zip(lista1, lista2)\n",
    "\n",
    "for tupla in resultado:\n",
    "    print(tupla)\n"
   ]
  },
  {
   "cell_type": "code",
   "execution_count": 3,
   "metadata": {},
   "outputs": [],
   "source": [
    "from timeit import timeit"
   ]
  },
  {
   "cell_type": "code",
   "execution_count": 4,
   "metadata": {},
   "outputs": [],
   "source": [
    "def dot_product(list1, list2):\n",
    "    dot = 0\n",
    "    for i,j in zip(list1, list2):\n",
    "        dot += i*j\n",
    "    return dot"
   ]
  },
  {
   "cell_type": "code",
   "execution_count": 5,
   "metadata": {},
   "outputs": [],
   "source": [
    "list1 = [i for i in range(10000000)]\n",
    "list2 = [i for i in range(10000000)]\n",
    "arr1 = np.array([i for i in range(10000000)])\n",
    "arr2 = np.array([i for i in range(10000000)])"
   ]
  },
  {
   "cell_type": "code",
   "execution_count": 6,
   "metadata": {},
   "outputs": [
    {
     "name": "stdout",
     "output_type": "stream",
     "text": [
      "4.685696767000081\n",
      "0.046430220999809535\n"
     ]
    }
   ],
   "source": [
    "setup = 'from __main__ import dot_product, list1, list2, arr1, arr2; import numpy as np'\n",
    "print(timeit('dot_product(list1, list2)', setup=setup, number=10))\n",
    "print(timeit('np.dot(arr1, arr2)', setup=setup, number=10))\n"
   ]
  },
  {
   "cell_type": "code",
   "execution_count": 7,
   "metadata": {},
   "outputs": [
    {
     "name": "stdout",
     "output_type": "stream",
     "text": [
      "471 ms ± 15.5 ms per loop (mean ± std. dev. of 7 runs, 1 loop each)\n"
     ]
    }
   ],
   "source": [
    "%%timeit\n",
    "\n",
    "dot_product(list1, list2)"
   ]
  },
  {
   "cell_type": "code",
   "execution_count": 8,
   "metadata": {},
   "outputs": [
    {
     "name": "stdout",
     "output_type": "stream",
     "text": [
      "4.67 ms ± 31.3 µs per loop (mean ± std. dev. of 7 runs, 100 loops each)\n"
     ]
    }
   ],
   "source": [
    "%%timeit\n",
    "\n",
    "np.dot(arr1,arr2)"
   ]
  }
 ],
 "metadata": {
  "kernelspec": {
   "display_name": ".venv",
   "language": "python",
   "name": "python3"
  },
  "language_info": {
   "codemirror_mode": {
    "name": "ipython",
    "version": 3
   },
   "file_extension": ".py",
   "mimetype": "text/x-python",
   "name": "python",
   "nbconvert_exporter": "python",
   "pygments_lexer": "ipython3",
   "version": "3.8.18"
  },
  "orig_nbformat": 4
 },
 "nbformat": 4,
 "nbformat_minor": 2
}
